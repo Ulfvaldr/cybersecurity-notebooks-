{
 "cells": [
  {
   "cell_type": "markdown",
   "metadata": {},
   "source": [
    "## Nmap Network Scan Visualization In Python"
   ]
  },
  {
   "cell_type": "markdown",
   "metadata": {},
   "source": [
    "---"
   ]
  },
  {
   "cell_type": "markdown",
   "metadata": {},
   "source": [
    "##### Table of Contents\n",
    "\n",
    "1. **Initial Setup**\n",
    "   - **Import Libraries**: Import the necessary Python libraries for scanning and visualization.\n",
    "   - **Initialize the Nmap Scanner**: Set up the Nmap scanner using the `nmap.PortScanner()` method.\n",
    "   - **Define Target**: Specify the IP or hostname you want to scan.\n",
    "\n",
    "2. **Port Scanning and Parsing**\n",
    "   - **Perform Full Port Scan**: Scanning all ports (`1-65535`) using Nmap to check for open/closed ports on the target.\n",
    "   - **Parse Results**: Extracting data from the Nmap scan output, including host, port, service name, and state (open/closed), and organizing it in a Pandas DataFrame.\n",
    "\n",
    "3. **Service-Specific Visualization**\n",
    "   - **Bar Chart of Open Ports by Service**: Visualizing the number of open ports for each service across the scanned hosts.\n",
    "\n",
    "4. **Handling Unknown Services**\n",
    "   - **Identify Known vs. Unknown Services**: Categorizing services as either known or unknown based on Nmap’s scan results.\n",
    "   - **Visualize Known vs. Unknown Services**: Using a bar chart to compare the proportion of known and unknown services and their open/closed status.\n",
    "\n",
    "5. **Scatter Plot (Lots of Dots) Bonus Visualization**\n",
    "   - **Host-Wise Scatter Plot of Ports**: A scatter plot representing ports across hosts, with each dot indicating the state (open/closed) of a port.\n",
    "\n",
    "6. **Heatmap of Open Ports Across Hosts**\n",
    "   - **Matrix-Style Heatmap**: Showing the state of ports (open/closed) across all scanned hosts, with hosts on the y-axis and ports on the x-axis.\n",
    "\n",
    "7. **Histogram of Port Frequencies**\n",
    "   - **Port Frequency Distribution**: Showing the frequency of port numbers across all scanned hosts, helping to identify the most commonly used ports.\n"
   ]
  },
  {
   "cell_type": "markdown",
   "metadata": {},
   "source": [
    "---"
   ]
  },
  {
   "cell_type": "markdown",
   "metadata": {},
   "source": [
    "#### 1. Initial Setup\n",
    "- First item Objective: Prepare the environment by importing necessary\n",
    "- Libraries Used:\n",
    "   - Nmap: For performing network scanning and extracting port and service data.\n",
    "   - Pandas: For organizing the scan data into a DataFrame for easier manipulation and analysis.\n",
    "   - Seaborn & Matplotlib: For creating visualizations of the scan data.\n",
    "- Initialization: We initialize the Nmap scanner and set the target (IP or hostname) to scan.\n",
    "python"
   ]
  },
  {
   "cell_type": "code",
   "execution_count": 1,
   "metadata": {},
   "outputs": [],
   "source": [
    "# Prepare the environment by importing necessary libraries for scanning, data processing, and visualization.\n",
    "import nmap\n",
    "import pandas as pd\n",
    "import seaborn as sns\n",
    "import matplotlib.pyplot as plt"
   ]
  },
  {
   "cell_type": "code",
   "execution_count": 2,
   "metadata": {},
   "outputs": [],
   "source": [
    "# Initialize the Nmap scanner\n",
    "nm = nmap.PortScanner()"
   ]
  },
  {
   "cell_type": "code",
   "execution_count": 3,
   "metadata": {},
   "outputs": [],
   "source": [
    "# Define the target (replace with the actual target IP or hostname)\n",
    "target = '127.0.0.1'"
   ]
  },
  {
   "cell_type": "markdown",
   "metadata": {},
   "source": [
    "---"
   ]
  },
  {
   "cell_type": "markdown",
   "metadata": {},
   "source": [
    "#### 2. Port Scanning and Parsing\n",
    "- Objective: Perform a comprehensive scan of the target’s network to collect data on open and closed ports, services, and their states (open/closed).\n",
    "- Port Scanning:\n",
    "  - We use an SYN scan (`-sS)`, which is a fast and stealthy scan method for determining the status of ports (open/closed).\n",
    "  - The scan covers all 65535 ports (`-p 1-65535`) to ensure we gather complete data on the target.\n",
    "- Parsing Results:\n",
    "  - After the scan is complete, we loop through each host and port, extracting the service name, port number, and state (open/closed).\n",
    "  - The parsed data is stored in a Pandas DataFrame for easier processing and visualization."
   ]
  },
  {
   "cell_type": "code",
   "execution_count": null,
   "metadata": {},
   "outputs": [],
   "source": [
    "# 2. Port Scanning and Parsing\n",
    "# Perform a full port scan with service detection\n",
    "nm.scan(hosts=target, arguments='-sS -sV -p 1-65535')\n",
    "\n",
    "# Parse scan results and capture service data\n",
    "service_data = []\n",
    "for host in nm.all_hosts():\n",
    "    for port in nm[host]['tcp']:\n",
    "        state = nm[host]['tcp'][port]['state']\n",
    "        service_name = nm[host]['tcp'][port].get('name', 'unknown')  # Detect the service name\n",
    "        version_info = nm[host]['tcp'][port].get('version', '')  # Capture version information if available\n",
    "        service_data.append({\n",
    "            'Host': host,\n",
    "            'Port': port,\n",
    "            'Service': service_name,\n",
    "            'State': state,\n",
    "            'Version': version_info  # Include version information in the data\n",
    "        })\n",
    "\n",
    "# Convert the service data into a Pandas DataFrame\n",
    "df_services = pd.DataFrame(service_data)\n",
    "\n",
    "# Display the DataFrame to check the results\n",
    "print(df_services)"
   ]
  },
  {
   "cell_type": "markdown",
   "metadata": {},
   "source": [
    "##### Breakdown:\n",
    "1. Port Scanning (`-sS -sV`):\n",
    "\n",
    "- `-sS`: Performs a SYN scan (fast and stealthy to detect open/closed ports).\n",
    "- `-sV`: Performs service version detection, which attempts to identify the service running on each open port.\n",
    "This scan checks all ports `(-p 1-65535)` on the specified target.\n",
    "\n",
    "2. Parsing the Results:\n",
    "\n",
    "- `nm.all_hosts()`: Retrieves all the hosts that were scanned.\n",
    "- `nm[host]['tcp'][port]['state']`: Captures the state of each port (open/closed).\n",
    "- `nm``[host]['tcp'][port].get('name'`, 'unknown'): Attempts to capture the service name; if the service is not identified, it defaults to `'unknown'`.\n",
    "  `nm``[host]['tcp'][port].get('version'`, ''): Captures the version information (if available). This is important for more accurate detection of services.\n",
    "  \n",
    "1. Convert to DataFrame:\n",
    "\n",
    "- All parsed results are stored in a Pandas `DataFrame`, making it easier to work with and visualize the data.\n",
    "  \n",
    "4. Handling Service Names and Versions:\n",
    "\n",
    "- `Service`: Contains the service name (e.g., HTTP, SSH, etc.). If the service is unknown, it is labeled as `'unknown'`.\n",
    "- `Version`: Captures additional version info for the service (e.g., HTTP version, SSH version, etc.), which can be useful for vulnerability assessments.\n",
    "Additional Recommendations:"
   ]
  },
  {
   "cell_type": "markdown",
   "metadata": {},
   "source": [
    "Why is this important?\n",
    "- Scanning: A full SYN scan is useful to check for all open ports, helping identify potential entry points in the network.\n",
    "- Parsing: We need to extract meaningful information from the scan output (service, port, state) so we can visualize and analyze it."
   ]
  },
  {
   "cell_type": "markdown",
   "metadata": {},
   "source": [
    "---"
   ]
  },
  {
   "cell_type": "markdown",
   "metadata": {},
   "source": [
    "#### 3. Service-Specific Visualization\n",
    "- Objective: Create a bar chart to show the number of open ports for each detected service (e.g., HTTP, SSH).\n",
    "Logic:\n",
    "  - Countplot: Seaborn’s `countplot()` is used to count how many ports are open for each service type, giving a clear view of the services running on the network."
   ]
  },
  {
   "cell_type": "code",
   "execution_count": null,
   "metadata": {},
   "outputs": [],
   "source": [
    "# 3. Service-Specific Visualization\n",
    "if not df_services.empty:\n",
    "    plt.figure(figsize=(12, 8))\n",
    "    sns.countplot(data=df_services[df_services['State'] == 'open'], x='Service', palette='Set2')\n",
    "    plt.title('Number of Open Ports by Service')\n",
    "    plt.ylabel('Number of Open Ports')\n",
    "    plt.xticks(rotation=90)\n",
    "    plt.show()\n"
   ]
  },
  {
   "cell_type": "markdown",
   "metadata": {},
   "source": [
    "Why is this important?\n",
    "- Visualization: This helps network administrators or security analysts identify which services have open ports, allowing for a quick assessment of network exposure.\n",
    "- Data Focus: We only focus on open ports since they are the most relevant from a security perspective.\n"
   ]
  },
  {
   "cell_type": "markdown",
   "metadata": {},
   "source": [
    "---"
   ]
  },
  {
   "cell_type": "markdown",
   "metadata": {},
   "source": [
    "#### 4. Handling Unknown Services\n",
    "- Objective: Identify which services are known and which are unknown, and visualize the open/closed status for both types.\n",
    "- Logic:\n",
    "  - Categorization: We categorize each service as \"Known\" (if recognized by Nmap) or \"Unknown\" (if Nmap couldn’t identify the service running on a port).\n",
    "  - Visualization: A bar chart shows the proportion of known vs unknown services, further broken down by whether they are open or closed."
   ]
  },
  {
   "cell_type": "code",
   "execution_count": null,
   "metadata": {},
   "outputs": [],
   "source": [
    "# 4. Handling Unknown Services\n",
    "# Categorize known vs unknown services\n",
    "df_services['Service Type'] = df_services['Service'].apply(lambda x: 'Known' if x != 'unknown' else 'Unknown')\n",
    "\n",
    "# Visualize known vs unknown services\n",
    "plt.figure(figsize=(10, 6))\n",
    "sns.countplot(data=df_services, x='Service Type', hue='State', palette='Set1')\n",
    "plt.title('Known vs Unknown Services')\n",
    "plt.show()"
   ]
  },
  {
   "cell_type": "markdown",
   "metadata": {},
   "source": [
    "Why is this important?\n",
    "- Security Implications: Unknown services could represent misconfigured services, custom services, or hidden vulnerabilities.\n",
    "- Focus: Differentiating known from unknown services helps focus security efforts on unfamiliar or potentially risky services."
   ]
  },
  {
   "cell_type": "markdown",
   "metadata": {},
   "source": [
    "---"
   ]
  },
  {
   "cell_type": "markdown",
   "metadata": {},
   "source": [
    "#### 5. Scatter Plot (Lots of Dots) Bonus Visualization\n",
    "- Objective: Visualize the distribution of ports across hosts, color-coded by whether the port is open or closed.\n",
    "- Logic:\n",
    "  - Scatter Plot: Each dot represents a port on a host, giving a host-wise breakdown of open/closed ports.\n",
    "  - The x-axis represents port numbers and the y-axis represents hosts, making it easy to spot patterns in port availability."
   ]
  },
  {
   "cell_type": "code",
   "execution_count": null,
   "metadata": {},
   "outputs": [],
   "source": [
    "# 5. Scatter Plot (Lots of Dots) Bonus Visualization\n",
    "df_services['State Numeric'] = df_services['State'].apply(lambda x: 1 if x == 'open' else 0)\n",
    "\n",
    "plt.figure(figsize=(14, 10))\n",
    "sns.scatterplot(data=df_services, x='Port', y='Host', hue='State', palette='Set1', s=40, alpha=0.8)\n",
    "plt.title('Scatter Plot of Ports Across Hosts')\n",
    "plt.xlabel('Ports')\n",
    "plt.ylabel('Hosts')\n",
    "plt.grid(True)\n",
    "plt.show()\n"
   ]
  },
  {
   "cell_type": "markdown",
   "metadata": {},
   "source": [
    "Why is this important?\n",
    "- Detailed View: Scatter plots give a dense visual representation of which ports are open or closed across different hosts, allowing security analysts to identify patterns (e.g., repeated use of the same port across hosts)."
   ]
  },
  {
   "cell_type": "markdown",
   "metadata": {},
   "source": [
    "---"
   ]
  },
  {
   "cell_type": "markdown",
   "metadata": {},
   "source": [
    "#### 6. Heatmap of Open Ports Across Hosts\n",
    "- Objective: Create a heatmap to represent the state of ports across multiple hosts.\n",
    "- Logic:\n",
    "    - We use a pivot table to rearrange the data with hosts on the y-axis and ports on the x-axis. The heatmap color intensity reflects whether the port is open or closed."
   ]
  },
  {
   "cell_type": "code",
   "execution_count": null,
   "metadata": {},
   "outputs": [],
   "source": [
    "# 6. Heatmap of Open Ports Across Hosts\n",
    "heatmap_data = df_services.pivot_table(index='Host', columns='Port', values='State Numeric', aggfunc='first').fillna(0)\n",
    "\n",
    "plt.figure(figsize=(16, 10))\n",
    "sns.heatmap(heatmap_data, cmap='YlGnBu', linewidths=0.5)\n",
    "plt.title('Heatmap of Open Ports Across Hosts')\n",
    "plt.ylabel('Hosts')\n",
    "plt.xlabel('Ports')\n",
    "plt.show()\n"
   ]
  },
  {
   "cell_type": "markdown",
   "metadata": {},
   "source": [
    "Why is this important?\n",
    "- Network Overview: A heatmap provides a clear and quick way to visualize the status of a large number of ports across multiple hosts.\n",
    "- Port Distribution: Helps in identifying unusual patterns (e.g., the same port being open across several hosts, which may indicate a vulnerability)."
   ]
  },
  {
   "cell_type": "markdown",
   "metadata": {},
   "source": [
    "---"
   ]
  },
  {
   "cell_type": "markdown",
   "metadata": {},
   "source": [
    "#### 7. Histogram of Port Frequencies\n",
    "- Objective: Visualize the frequency of port numbers across all scanned hosts.\n",
    "- Logic:\n",
    "  - A histogram is used to show how many times each port appears in the scan results. This helps identify the most commonly used ports in the network."
   ]
  },
  {
   "cell_type": "code",
   "execution_count": null,
   "metadata": {},
   "outputs": [],
   "source": [
    "# 7. Histogram of Port Frequencies\n",
    "plt.figure(figsize=(12, 6))\n",
    "sns.histplot(df_services['Port'], bins=50, color='blue')\n",
    "plt.title('Distribution of Port Numbers Across Hosts')\n",
    "plt.xlabel('Port Numbers')\n",
    "plt.ylabel('Frequency')\n",
    "plt.show()"
   ]
  },
  {
   "cell_type": "markdown",
   "metadata": {},
   "source": [
    "#### Why is this important?\n",
    "- Common Ports: Identifying commonly used ports can help focus security audits on frequently exposed ports.\n",
    "- Port Usage: It gives insight into the range of port numbers being used and helps spot trends (e.g., use of high-numbered ports).\n"
   ]
  },
  {
   "cell_type": "markdown",
   "metadata": {},
   "source": [
    "---"
   ]
  },
  {
   "cell_type": "markdown",
   "metadata": {},
   "source": [
    "#### Summary:\n",
    "Each step in this project provides a structured approach to network scanning and data visualization:\n",
    "\n",
    "1. Initial Setup prepares the environment.\n",
    "2. Port Scanning and Parsing gathers data about the network.\n",
    "3. Service-Specific Visualization focuses on services with open ports.\n",
    "4. Handling Unknown Services highlights potentially risky unknown services.\n",
    "5. Scatter Plot and Heatmap give different visual perspectives of the scanned data.\n",
    "6. Histogram shows how frequently each port is used across hosts.\n",
    "Let me know if you need further modifications or explanations!"
   ]
  },
  {
   "cell_type": "markdown",
   "metadata": {},
   "source": [
    "---"
   ]
  },
  {
   "cell_type": "markdown",
   "metadata": {},
   "source": [
    "---\n",
    "**Author**: Rich Van Buren  \n",
    "**Date**: September 2024  \n",
    "**Project**: Network Scanning & Visualization with Nmap  \n",
    "**Contact**:  \n",
    "- Email: [rvanburen.tech@gmail.com](mailto:rvanburen.tech@gmail.com)  \n",
    "- GitHub: [github.com/Ulfvaldr](https://github.com/Ulfvaldr)\n",
    "- LinkedIn: [www.linkedin.com/in/rich-van-buren-4762955](https://linkedin.com/in/yourprofile)\n"
   ]
  }
 ],
 "metadata": {
  "kernelspec": {
   "display_name": "venv",
   "language": "python",
   "name": "python3"
  },
  "language_info": {
   "codemirror_mode": {
    "name": "ipython",
    "version": 3
   },
   "file_extension": ".py",
   "mimetype": "text/x-python",
   "name": "python",
   "nbconvert_exporter": "python",
   "pygments_lexer": "ipython3",
   "version": "3.12.1"
  }
 },
 "nbformat": 4,
 "nbformat_minor": 2
}
